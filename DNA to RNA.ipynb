{
 "cells": [
  {
   "cell_type": "code",
   "execution_count": 4,
   "metadata": {},
   "outputs": [
    {
     "name": "stdout",
     "output_type": "stream",
     "text": [
      "A\n",
      "U\n"
     ]
    }
   ],
   "source": [
    "dna = input()\n",
    "new = \"\"\n",
    " \n",
    "for i in dna:\n",
    "    if i not in 'ATGC':\n",
    "        new = \"Invalid Input\"\n",
    "        break\n",
    "    if i == 'A':\n",
    "        new += 'U'\n",
    "    elif i == 'C':\n",
    "        new += 'G'\n",
    "    elif i == 'T':\n",
    "        new += 'A'\n",
    "    else:\n",
    "        new += 'C'\n",
    " \n",
    "print(new)"
   ]
  },
  {
   "cell_type": "code",
   "execution_count": null,
   "metadata": {},
   "outputs": [],
   "source": []
  }
 ],
 "metadata": {
  "kernelspec": {
   "display_name": "Python 3",
   "language": "python",
   "name": "python3"
  },
  "language_info": {
   "codemirror_mode": {
    "name": "ipython",
    "version": 3
   },
   "file_extension": ".py",
   "mimetype": "text/x-python",
   "name": "python",
   "nbconvert_exporter": "python",
   "pygments_lexer": "ipython3",
   "version": "3.7.3"
  }
 },
 "nbformat": 4,
 "nbformat_minor": 4
}
